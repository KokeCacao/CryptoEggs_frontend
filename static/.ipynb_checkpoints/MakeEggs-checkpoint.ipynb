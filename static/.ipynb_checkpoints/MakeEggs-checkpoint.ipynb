{
 "cells": [
  {
   "cell_type": "code",
   "execution_count": 1,
   "metadata": {},
   "outputs": [],
   "source": [
    "import cv2\n",
    "import os\n",
    "import numpy as np\n",
    "\n",
    "from matplotlib import pyplot as plt"
   ]
  },
  {
   "cell_type": "code",
   "execution_count": 6,
   "metadata": {},
   "outputs": [
    {
     "name": "stdout",
     "output_type": "stream",
     "text": [
      "['1.png', '203.png', '202.png', '201.png', '0.png', '255.png', '254.png', '200.png', '253.png', '252.png', '251.png', '250.png', '249.png', '248.png', '247.png', '246.png', '245.png', '244.png', '199.png', '243.png', '242.png', '241.png', '240.png', '239.png', '238.png', '237.png', '236.png', '235.png', '234.png', '198.png', '233.png', '232.png', '231.png', '230.png', '229.png', '228.png', '227.png', '226.png', '225.png', '224.png', '197.png', '223.png', '222.png', '221.png', '220.png', '219.png', '218.png', '217.png', '216.png', '215.png', '214.png', '196.png', '213.png', '212.png', '211.png', '210.png', '209.png', '208.png', '207.png', '206.png', '205.png', '204.png', '195.png', '194.png', '139.png', '138.png', '137.png', '193.png', '192.png', '191.png', '190.png', '136.png', '189.png', '188.png', '187.png', '186.png', '185.png', '184.png', '183.png', '182.png', '181.png', '180.png', '135.png', '179.png', '178.png', '177.png', '176.png', '175.png', '174.png', '173.png', '172.png', '171.png', '170.png', '134.png', '169.png', '168.png', '167.png', '166.png', '165.png', '164.png', '163.png', '162.png', '161.png', '160.png', '133.png', '159.png', '158.png', '157.png', '156.png', '155.png', '154.png', '153.png', '152.png', '151.png', '150.png', '132.png', '149.png', '148.png', '147.png', '146.png', '145.png', '144.png', '143.png', '142.png', '141.png', '140.png', '131.png', '130.png', '75.png', '74.png', '73.png', '129.png', '128.png', '127.png', '126.png', '72.png', '125.png', '124.png', '123.png', '122.png', '121.png', '120.png', '119.png', '118.png', '117.png', '116.png', '71.png', '115.png', '114.png', '113.png', '112.png', '111.png', '110.png', '109.png', '108.png', '107.png', '106.png', '70.png', '105.png', '104.png', '103.png', '102.png', '101.png', '100.png', '99.png', '98.png', '97.png', '96.png', '69.png', '95.png', '94.png', '93.png', '92.png', '91.png', '90.png', '89.png', '88.png', '87.png', '86.png', '68.png', '85.png', '84.png', '83.png', '82.png', '81.png', '80.png', '79.png', '78.png', '77.png', '76.png', '67.png', '66.png', '11.png', '10.png', '9.png', '65.png', '64.png', '63.png', '62.png', '2.png', '57.png', '59.png', '37.png', '38.png', '40.png', '42.png', '44.png', '46.png', '48.png', '50.png', '52.png', '54.png', '56.png', '60.png', '3.png', '4.png', '5.png', '6.png', '7.png', '8.png', '12.png', '13.png', '14.png', '15.png', '16.png', '17.png', '18.png', '19.png', '20.png', '21.png', '22.png', '23.png', '24.png', '25.png', '26.png', '27.png', '28.png', '29.png', '30.png', '31.png', '32.png', '33.png', '34.png', '35.png', '36.png', '39.png', '41.png', '43.png', '45.png', '47.png', '49.png', '51.png', '53.png', '55.png', '58.png', '61.png']\n"
     ]
    },
    {
     "ename": "ValueError",
     "evalue": "The truth value of an array with more than one element is ambiguous. Use a.any() or a.all()",
     "output_type": "error",
     "traceback": [
      "\u001b[0;31m---------------------------------------------------------------------------\u001b[0m",
      "\u001b[0;31mValueError\u001b[0m                                Traceback (most recent call last)",
      "\u001b[0;32m<ipython-input-6-8ddeb60c5190>\u001b[0m in \u001b[0;36m<module>\u001b[0;34m\u001b[0m\n\u001b[1;32m     20\u001b[0m         \u001b[0mgenerate_egg\u001b[0m\u001b[0;34m(\u001b[0m\u001b[0mimg_name\u001b[0m\u001b[0;34m)\u001b[0m\u001b[0;34m\u001b[0m\u001b[0;34m\u001b[0m\u001b[0m\n\u001b[1;32m     21\u001b[0m \u001b[0;34m\u001b[0m\u001b[0m\n\u001b[0;32m---> 22\u001b[0;31m \u001b[0mprocess\u001b[0m\u001b[0;34m(\u001b[0m\u001b[0;34m)\u001b[0m\u001b[0;34m\u001b[0m\u001b[0;34m\u001b[0m\u001b[0m\n\u001b[0m",
      "\u001b[0;32m<ipython-input-6-8ddeb60c5190>\u001b[0m in \u001b[0;36mprocess\u001b[0;34m()\u001b[0m\n\u001b[1;32m     18\u001b[0m     \u001b[0mprint\u001b[0m\u001b[0;34m(\u001b[0m\u001b[0mfilelist\u001b[0m\u001b[0;34m)\u001b[0m\u001b[0;34m\u001b[0m\u001b[0;34m\u001b[0m\u001b[0m\n\u001b[1;32m     19\u001b[0m     \u001b[0;32mfor\u001b[0m \u001b[0mimg_name\u001b[0m \u001b[0;32min\u001b[0m \u001b[0mfilelist\u001b[0m\u001b[0;34m:\u001b[0m\u001b[0;34m\u001b[0m\u001b[0;34m\u001b[0m\u001b[0m\n\u001b[0;32m---> 20\u001b[0;31m         \u001b[0mgenerate_egg\u001b[0m\u001b[0;34m(\u001b[0m\u001b[0mimg_name\u001b[0m\u001b[0;34m)\u001b[0m\u001b[0;34m\u001b[0m\u001b[0;34m\u001b[0m\u001b[0m\n\u001b[0m\u001b[1;32m     21\u001b[0m \u001b[0;34m\u001b[0m\u001b[0m\n\u001b[1;32m     22\u001b[0m \u001b[0mprocess\u001b[0m\u001b[0;34m(\u001b[0m\u001b[0;34m)\u001b[0m\u001b[0;34m\u001b[0m\u001b[0;34m\u001b[0m\u001b[0m\n",
      "\u001b[0;32m<ipython-input-6-8ddeb60c5190>\u001b[0m in \u001b[0;36mgenerate_egg\u001b[0;34m(img_name)\u001b[0m\n\u001b[1;32m      6\u001b[0m     \u001b[0;31m# create transparent\u001b[0m\u001b[0;34m\u001b[0m\u001b[0;34m\u001b[0m\u001b[0;34m\u001b[0m\u001b[0m\n\u001b[1;32m      7\u001b[0m     \u001b[0mresult\u001b[0m\u001b[0;34m[\u001b[0m\u001b[0mnp\u001b[0m\u001b[0;34m.\u001b[0m\u001b[0mwhere\u001b[0m\u001b[0;34m(\u001b[0m\u001b[0mnp\u001b[0m\u001b[0;34m.\u001b[0m\u001b[0mall\u001b[0m\u001b[0;34m(\u001b[0m\u001b[0mmask\u001b[0m\u001b[0;34m[\u001b[0m\u001b[0;34m...\u001b[0m\u001b[0;34m,\u001b[0m \u001b[0;34m:\u001b[0m\u001b[0;36m3\u001b[0m\u001b[0;34m]\u001b[0m \u001b[0;34m==\u001b[0m \u001b[0;36m0\u001b[0m\u001b[0;34m,\u001b[0m \u001b[0;34m-\u001b[0m\u001b[0;36m1\u001b[0m\u001b[0;34m)\u001b[0m\u001b[0;34m)\u001b[0m\u001b[0;34m]\u001b[0m \u001b[0;34m=\u001b[0m \u001b[0;36m0\u001b[0m\u001b[0;34m\u001b[0m\u001b[0;34m\u001b[0m\u001b[0m\n\u001b[0;32m----> 8\u001b[0;31m     \u001b[0mimage\u001b[0m\u001b[0;34m[\u001b[0m\u001b[0mnp\u001b[0m\u001b[0;34m.\u001b[0m\u001b[0mwhere\u001b[0m\u001b[0;34m(\u001b[0m\u001b[0mnp\u001b[0m\u001b[0;34m.\u001b[0m\u001b[0mall\u001b[0m\u001b[0;34m(\u001b[0m\u001b[0mimage\u001b[0m\u001b[0;34m[\u001b[0m\u001b[0;34m...\u001b[0m\u001b[0;34m,\u001b[0m \u001b[0;34m:\u001b[0m\u001b[0;36m3\u001b[0m\u001b[0;34m]\u001b[0m \u001b[0;34m<\u001b[0m \u001b[0;36m10\u001b[0m \u001b[0;32mor\u001b[0m \u001b[0mimage\u001b[0m\u001b[0;34m[\u001b[0m\u001b[0;34m...\u001b[0m\u001b[0;34m,\u001b[0m \u001b[0;34m:\u001b[0m\u001b[0;36m3\u001b[0m\u001b[0;34m]\u001b[0m \u001b[0;34m>\u001b[0m \u001b[0;36m250\u001b[0m\u001b[0;34m,\u001b[0m \u001b[0;34m-\u001b[0m\u001b[0;36m1\u001b[0m\u001b[0;34m)\u001b[0m\u001b[0;34m)\u001b[0m\u001b[0;34m]\u001b[0m \u001b[0;34m=\u001b[0m \u001b[0;36m0\u001b[0m\u001b[0;34m\u001b[0m\u001b[0;34m\u001b[0m\u001b[0m\n\u001b[0m\u001b[1;32m      9\u001b[0m     \u001b[0mcv2\u001b[0m\u001b[0;34m.\u001b[0m\u001b[0mimwrite\u001b[0m\u001b[0;34m(\u001b[0m\u001b[0;34m'./eggs/{}'\u001b[0m\u001b[0;34m.\u001b[0m\u001b[0mformat\u001b[0m\u001b[0;34m(\u001b[0m\u001b[0mimg_name\u001b[0m\u001b[0;34m)\u001b[0m\u001b[0;34m,\u001b[0m \u001b[0mresult\u001b[0m\u001b[0;34m)\u001b[0m\u001b[0;34m\u001b[0m\u001b[0;34m\u001b[0m\u001b[0m\n\u001b[1;32m     10\u001b[0m     \u001b[0mcv2\u001b[0m\u001b[0;34m.\u001b[0m\u001b[0mimwrite\u001b[0m\u001b[0;34m(\u001b[0m\u001b[0;34m'./mons/{}'\u001b[0m\u001b[0;34m.\u001b[0m\u001b[0mformat\u001b[0m\u001b[0;34m(\u001b[0m\u001b[0mimg_name\u001b[0m\u001b[0;34m)\u001b[0m\u001b[0;34m,\u001b[0m \u001b[0mimage\u001b[0m\u001b[0;34m)\u001b[0m\u001b[0;34m\u001b[0m\u001b[0;34m\u001b[0m\u001b[0m\n",
      "\u001b[0;31mValueError\u001b[0m: The truth value of an array with more than one element is ambiguous. Use a.any() or a.all()"
     ]
    }
   ],
   "source": [
    "def generate_egg(img_name):\n",
    "    image = cv2.imread('./mons/{}'.format(img_name))\n",
    "    image = cv2.cvtColor(image, cv2.COLOR_BGR2BGRA)\n",
    "    mask = cv2.imread('./content.png', cv2.IMREAD_UNCHANGED)\n",
    "    result = cv2.bitwise_and(image, mask)\n",
    "    # create transparent\n",
    "    result[np.where(np.all(mask[..., :3] == 0, -1))] = 0\n",
    "    image[np.where(np.all(image[..., :3] < 10, -1))] = 0\n",
    "    image[np.where(np.all(image[..., :3] > 250, -1))] = 0\n",
    "    cv2.imwrite('./eggs/{}'.format(img_name), result)\n",
    "    cv2.imwrite('./mons/{}'.format(img_name), image)\n",
    "#     plt.imshow(cv2.cvtColor(image, cv2.COLOR_BGR2RGB))\n",
    "#     plt.imshow(cv2.cvtColor(mask, cv2.COLOR_BGR2RGB))\n",
    "#     plt.imshow(cv2.cvtColor(result, cv2.COLOR_BGR2RGB))\n",
    "#     plt.show()\n",
    "\n",
    "def process():\n",
    "    filelist = [file for file in os.listdir('./mons') if file.endswith('.png')]\n",
    "    print(filelist)\n",
    "    for img_name in filelist:\n",
    "        generate_egg(img_name)\n",
    "\n",
    "process()"
   ]
  },
  {
   "cell_type": "code",
   "execution_count": null,
   "metadata": {},
   "outputs": [],
   "source": []
  }
 ],
 "metadata": {
  "kernelspec": {
   "display_name": "Python 3.6.7 64-bit ('ml': conda)",
   "language": "python",
   "name": "python367jvsc74a57bd001f1f4ccec9d21a6b602b814fa30b54e1799da6cf0dbaa14cb3425f113782626"
  },
  "language_info": {
   "codemirror_mode": {
    "name": "ipython",
    "version": 3
   },
   "file_extension": ".py",
   "mimetype": "text/x-python",
   "name": "python",
   "nbconvert_exporter": "python",
   "pygments_lexer": "ipython3",
   "version": "3.6.7"
  }
 },
 "nbformat": 4,
 "nbformat_minor": 2
}
